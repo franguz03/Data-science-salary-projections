{
 "cells": [
  {
   "cell_type": "code",
   "execution_count": 4,
   "metadata": {},
   "outputs": [],
   "source": [
    "import pandas as pd\n",
    "import matplotlib.pyplot as plt\n",
    "import seaborn as sns"
   ]
  },
  {
   "cell_type": "code",
   "execution_count": 5,
   "metadata": {},
   "outputs": [],
   "source": [
    "salary_df=pd.read_csv('data/glassdoor_salary_cleaned.csv')"
   ]
  },
  {
   "cell_type": "code",
   "execution_count": 7,
   "metadata": {},
   "outputs": [],
   "source": [
    "def title_simplifier(title):\n",
    "    if 'data scientist' in title.lower():\n",
    "        return \"data scientist\"\n",
    "    elif 'data engineer' in title.lower():\n",
    "        return \"data engineer\"\n",
    "    elif 'analyst' in title.lower():\n",
    "        return \"analyst\"\n",
    "    elif 'machine learning' in title.lower():\n",
    "        return \"mle\"\n",
    "    elif 'manager' in title.lower():\n",
    "        return \"manager\"\n",
    "    elif 'director' in title.lower():\n",
    "        return \"director\"\n",
    "    else:\n",
    "        return \"na\"\n",
    "\n",
    "def seniority(title):\n",
    "    if 'sr' in title.lower() or 'senior' in title.lower() or 'sr' in title.lower() or 'lead' in title.lower() or 'principal' in title.lower():\n",
    "        return \"senior\"\n",
    "    elif 'jr' in title.lower() or 'jr.' in title.lower():\n",
    "        return \"jr\"\n",
    "    else:\n",
    "        return \"na\"\n"
   ]
  },
  {
   "cell_type": "code",
   "execution_count": null,
   "metadata": {},
   "outputs": [
    {
     "name": "stdout",
     "output_type": "stream",
     "text": [
      "title_simplified\n",
      "data scientist    279\n",
      "na                184\n",
      "data engineer     119\n",
      "analyst           102\n",
      "manager            22\n",
      "mle                22\n",
      "director           14\n",
      "Name: count, dtype: int64\n"
     ]
    },
    {
     "data": {
      "text/plain": [
       "seniority\n",
       "na        520\n",
       "senior    220\n",
       "jr          2\n",
       "Name: count, dtype: int64"
      ]
     },
     "execution_count": 11,
     "metadata": {},
     "output_type": "execute_result"
    }
   ],
   "source": [
    "#simplify job titles and get the seniority\n",
    "\n",
    "salary_df['title_simplified']=salary_df['Job Title'].apply(title_simplifier)\n",
    "print(salary_df['title_simplified'].value_counts())\n",
    "salary_df['seniority']=salary_df['Job Title'].apply(seniority)\n",
    "salary_df['seniority'].value_counts()"
   ]
  },
  {
   "cell_type": "code",
   "execution_count": 12,
   "metadata": {},
   "outputs": [
    {
     "data": {
      "text/plain": [
       "job_state\n",
       "CA    152\n",
       "MA    103\n",
       "NY     72\n",
       "VA     41\n",
       "IL     40\n",
       "MD     35\n",
       "PA     33\n",
       "TX     28\n",
       "WA     21\n",
       "NC     21\n",
       "NJ     17\n",
       "FL     16\n",
       "OH     14\n",
       "TN     13\n",
       "DC     11\n",
       "CO     11\n",
       "IN     10\n",
       "UT     10\n",
       "WI     10\n",
       "AZ      9\n",
       "MO      9\n",
       "AL      8\n",
       "GA      6\n",
       "MI      6\n",
       "KY      6\n",
       "DE      6\n",
       "IA      5\n",
       "CT      5\n",
       "OR      4\n",
       "NE      4\n",
       "LA      4\n",
       "NM      3\n",
       "KS      3\n",
       "MN      2\n",
       "ID      2\n",
       "RI      1\n",
       "SC      1\n",
       "Name: count, dtype: int64"
      ]
     },
     "execution_count": 12,
     "metadata": {},
     "output_type": "execute_result"
    }
   ],
   "source": [
    "# Fix 'Los Angeles' status and delete blanks\n",
    "salary_df['job_state']=salary_df['job_state'].apply(lambda x : x.strip() if x.strip().lower() != 'los angeles' else 'CA')\n",
    "salary_df['job_state'].value_counts()"
   ]
  },
  {
   "cell_type": "code",
   "execution_count": null,
   "metadata": {},
   "outputs": [
    {
     "data": {
      "text/plain": [
       "0      2555\n",
       "1      4828\n",
       "2      3495\n",
       "3      3926\n",
       "4      2748\n",
       "       ... \n",
       "737    6219\n",
       "738    6167\n",
       "739    3107\n",
       "740    1678\n",
       "741    3710\n",
       "Name: desc_len, Length: 742, dtype: int64"
      ]
     },
     "execution_count": 13,
     "metadata": {},
     "output_type": "execute_result"
    }
   ],
   "source": [
    "# getting job description length\n",
    "salary_df['desc_len']=salary_df['Job Description'].apply(lambda x : len (x))\n",
    "salary_df.desc_len"
   ]
  }
 ],
 "metadata": {
  "kernelspec": {
   "display_name": "Python (data-science-projection)",
   "language": "python",
   "name": "data-science-projection-44axzivx-py3.13"
  },
  "language_info": {
   "codemirror_mode": {
    "name": "ipython",
    "version": 3
   },
   "file_extension": ".py",
   "mimetype": "text/x-python",
   "name": "python",
   "nbconvert_exporter": "python",
   "pygments_lexer": "ipython3",
   "version": "3.13.2"
  }
 },
 "nbformat": 4,
 "nbformat_minor": 2
}
